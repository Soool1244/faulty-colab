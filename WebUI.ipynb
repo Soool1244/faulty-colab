{
  "nbformat": 4,
  "nbformat_minor": 0,
  "metadata": {
    "colab": {
      "provenance": [],
      "gpuType": "T4",
      "authorship_tag": "ABX9TyNtN5xvYvPgWOxxEMzG5tUp",
      "include_colab_link": true
    },
    "kernelspec": {
      "name": "python3",
      "display_name": "Python 3"
    },
    "language_info": {
      "name": "python"
    },
    "accelerator": "GPU"
  },
  "cells": [
    {
      "cell_type": "markdown",
      "metadata": {
        "id": "view-in-github",
        "colab_type": "text"
      },
      "source": [
        "<a href=\"https://colab.research.google.com/github/Soool1244/faulty-colab/blob/main/WebUI.ipynb\" target=\"_parent\"><img src=\"https://colab.research.google.com/assets/colab-badge.svg\" alt=\"Open In Colab\"/></a>"
      ]
    },
    {
      "cell_type": "code",
      "source": [
        "# Mount our drive\n",
        "\n",
        "from google.colab import drive\n",
        "\n",
        "drive.mount('/content/drive')\n",
        "\n",
        "\n",
        "\n",
        "# Create a folder for storing files\n",
        "\n",
        "#!mkdir /content/drive/MyDrive/AI/stable-diffusion-webui\n",
        "\n",
        "\n",
        "\n",
        "# Install dependencies\n",
        "\n",
        "!pip install torch==1.13.1+cu116 torchvision==0.14.1+cu116 torchaudio==0.13.1 --extra-index-url https://download.pytorch.org/whl/cu116 -U\n",
        "\n",
        "!pip install -q xformers==0.0.16\n",
        "\n",
        "!pip install -q triton==2.0.0\n",
        "\n",
        "\n",
        "\n",
        "# Clone SD WebUI from AUTOMATIC1111's repo\n",
        "\n",
        "#!git clone --depth=1 https://github.com/AUTOMATIC1111/stable-diffusion-webui.git /content/drive/MyDrive/AI/stable-diffusion-webui\n",
        "\n",
        "\n",
        "\n",
        "# Download checkpoint models to /stable-diffusion-webui/models/Stable-diffusion\n",
        "\n",
        "#!wget -nc -P /content/drive/MyDrive/AI/stable-diffusion-webui/models/Stable-diffusion https://huggingface.co/andite/anything-v4.0/resolve/main/anything-v4.5-pruned.safetensors\n",
        "\n",
        "\n",
        "\n",
        "# Fix change branch issues\n",
        "\n",
        "%cd /content/drive/MyDrive/AI/stable-diffusion-webui\n",
        "\n",
        "!git reset --hard HEAD\n",
        "!git pull\n",
        "#!sed -i -e 's/checkout {commithash}/checkout --force {commithash}/g' launch.py\n",
        "!git checkout\n",
        "\n",
        "# Launch WebUI\n",
        "\n",
        "!python launch.py --share --enable-insecure-extension-access --theme light\n"
      ],
      "metadata": {
        "colab": {
          "base_uri": "https://localhost:8080/"
        },
        "id": "yedfUgm0GIpO",
        "outputId": "e035fc24-6f3e-4f4c-aa84-faa96191d894"
      },
      "execution_count": null,
      "outputs": [
        {
          "output_type": "stream",
          "name": "stdout",
          "text": [
            "Drive already mounted at /content/drive; to attempt to forcibly remount, call drive.mount(\"/content/drive\", force_remount=True).\n",
            "Looking in indexes: https://pypi.org/simple, https://us-python.pkg.dev/colab-wheels/public/simple/, https://download.pytorch.org/whl/cu116\n",
            "Requirement already satisfied: torch==1.13.1+cu116 in /usr/local/lib/python3.10/dist-packages (1.13.1+cu116)\n",
            "Requirement already satisfied: torchvision==0.14.1+cu116 in /usr/local/lib/python3.10/dist-packages (0.14.1+cu116)\n",
            "Requirement already satisfied: torchaudio==0.13.1 in /usr/local/lib/python3.10/dist-packages (0.13.1+cu116)\n",
            "Requirement already satisfied: typing-extensions in /usr/local/lib/python3.10/dist-packages (from torch==1.13.1+cu116) (4.6.3)\n",
            "Requirement already satisfied: numpy in /usr/local/lib/python3.10/dist-packages (from torchvision==0.14.1+cu116) (1.22.4)\n",
            "Requirement already satisfied: requests in /usr/local/lib/python3.10/dist-packages (from torchvision==0.14.1+cu116) (2.27.1)\n",
            "Requirement already satisfied: pillow!=8.3.*,>=5.3.0 in /usr/local/lib/python3.10/dist-packages (from torchvision==0.14.1+cu116) (8.4.0)\n",
            "Requirement already satisfied: urllib3<1.27,>=1.21.1 in /usr/local/lib/python3.10/dist-packages (from requests->torchvision==0.14.1+cu116) (1.26.16)\n",
            "Requirement already satisfied: certifi>=2017.4.17 in /usr/local/lib/python3.10/dist-packages (from requests->torchvision==0.14.1+cu116) (2023.5.7)\n",
            "Requirement already satisfied: charset-normalizer~=2.0.0 in /usr/local/lib/python3.10/dist-packages (from requests->torchvision==0.14.1+cu116) (2.0.12)\n",
            "Requirement already satisfied: idna<4,>=2.5 in /usr/local/lib/python3.10/dist-packages (from requests->torchvision==0.14.1+cu116) (3.4)\n",
            "/content/drive/MyDrive/AI/stable-diffusion-webui\n",
            "HEAD is now at baf6946 Merge branch 'release_candidate'\n",
            "Already up to date.\n",
            "M\twebui.sh\n",
            "Your branch is up to date with 'origin/master'.\n",
            "Python 3.10.12 (main, Jun  7 2023, 12:45:35) [GCC 9.4.0]\n",
            "Version: v1.3.2\n",
            "Commit hash: baf6946e06249c5af9851c60171692c44ef633e0\n",
            "Fetching updates for CodeFormer...\n",
            "Checking out commit for CodeFormer with hash: c5b4593074ba6214284d6acd5f1719b6c5d739af...\n",
            "Traceback (most recent call last):\n",
            "  File \"/content/drive/MyDrive/AI/stable-diffusion-webui/launch.py\", line 38, in <module>\n",
            "    main()\n",
            "  File \"/content/drive/MyDrive/AI/stable-diffusion-webui/launch.py\", line 29, in main\n",
            "    prepare_environment()\n",
            "  File \"/content/drive/MyDrive/AI/stable-diffusion-webui/modules/launch_utils.py\", line 291, in prepare_environment\n",
            "    git_clone(codeformer_repo, repo_dir('CodeFormer'), \"CodeFormer\", codeformer_commit_hash)\n",
            "  File \"/content/drive/MyDrive/AI/stable-diffusion-webui/modules/launch_utils.py\", line 144, in git_clone\n",
            "    run(f'\"{git}\" -C \"{dir}\" checkout {commithash}', f\"Checking out commit for {name} with hash: {commithash}...\", f\"Couldn't checkout commit {commithash} for {name}\")\n",
            "  File \"/content/drive/MyDrive/AI/stable-diffusion-webui/modules/launch_utils.py\", line 101, in run\n",
            "    raise RuntimeError(\"\\n\".join(error_bits))\n",
            "RuntimeError: Couldn't checkout commit c5b4593074ba6214284d6acd5f1719b6c5d739af for CodeFormer.\n",
            "Command: \"git\" -C \"/content/drive/MyDrive/AI/stable-diffusion-webui/repositories/CodeFormer\" checkout c5b4593074ba6214284d6acd5f1719b6c5d739af\n",
            "Error code: 1\n",
            "stderr: error: Your local changes to the following files would be overwritten by checkout:\n",
            "\tbasicsr/data/ffhq_blind_dataset.py\n",
            "\tbasicsr/data/ffhq_blind_joint_dataset.py\n",
            "\tbasicsr/data/gaussian_kernels.py\n",
            "\toptions/CodeFormer_colorization.yml\n",
            "\toptions/CodeFormer_inpainting.yml\n",
            "\toptions/CodeFormer_stage2.yml\n",
            "\toptions/CodeFormer_stage3.yml\n",
            "\toptions/VQGAN_512_ds32_nearest_stage1.yml\n",
            "\tscripts/crop_align_face.py\n",
            "Please commit your changes or stash them before you switch branches.\n",
            "Aborting\n",
            "\n"
          ]
        }
      ]
    }
  ]
}